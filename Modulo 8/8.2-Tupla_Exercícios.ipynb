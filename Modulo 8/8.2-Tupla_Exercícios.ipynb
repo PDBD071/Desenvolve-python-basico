{
 "cells": [
  {
   "cell_type": "markdown",
   "id": "0d5035b5",
   "metadata": {},
   "source": [
    "# Tupla\n",
    "\n",
    "## Aula 8.2"
   ]
  },
  {
   "cell_type": "markdown",
   "id": "0bdece85",
   "metadata": {},
   "source": [
    "### Q1. \n",
    "\n",
    "Escreva uma função ```calcula_area_perimetro``` que recebe **apenas um parâmetro** ```dimensoes``` e calcula a área e o perímetro a partir das dimensões dadas. \n",
    "- ```dimensoes``` é uma tupla (largura, comprimento) com as dimensões de um terreno retangular\n",
    "- Sua função deve calcular e retornar as seguintes operações\n",
    "   - $area = largura \\times comprimento$\n",
    "   - $perimetro = 2\\times(largura + comprimento)$\n"
   ]
  },
  {
   "cell_type": "code",
   "execution_count": 11,
   "id": "0a258eba",
   "metadata": {},
   "outputs": [
    {
     "name": "stdout",
     "output_type": "stream",
     "text": [
      "(35, 24) <class 'tuple'>\n"
     ]
    }
   ],
   "source": [
    "# Implemente aqui a função calcula_area_perimetro\n",
    "\n",
    "def calcula_area_perimetro(dimensions):\n",
    "    largura, comprimento = dimensions\n",
    "    area = largura * comprimento\n",
    "    perimetro = 2 * (largura + comprimento)\n",
    "    return area, perimetro\n"
   ]
  },
  {
   "cell_type": "code",
   "execution_count": 16,
   "id": "e1866c04",
   "metadata": {},
   "outputs": [
    {
     "name": "stdout",
     "output_type": "stream",
     "text": [
      "(35, 24) <class 'tuple'>\n"
     ]
    }
   ],
   "source": [
    "# Complete o exemplo de uso abaixo\n",
    "# Definindo as dimensões\n",
    "largura = 5\n",
    "comprimento = 7\n",
    "\n",
    "# Criando a tupla dimensoes\n",
    "dimensoes = (largura, comprimento)\n",
    "\n",
    "# Chamada da função e impressão do resultado\n",
    "retorno = calcula_area_perimetro(dimensoes)  # Aqui é onde você chama a função\n",
    "print(retorno, type(retorno))"
   ]
  },
  {
   "cell_type": "markdown",
   "id": "cbdcb986",
   "metadata": {},
   "source": [
    "### Q2.\n",
    "\n",
    "Dada uma string, imprima todas as vogais que aparecem na string, bem como todos os índices onde elas ocorrem. Para isso, use a função ```enumerate```.\n"
   ]
  },
  {
   "cell_type": "code",
   "execution_count": 3,
   "id": "1f6b1f2d",
   "metadata": {},
   "outputs": [
    {
     "name": "stdout",
     "output_type": "stream",
     "text": [
      "0\n",
      "1\n",
      "2\n",
      "3\n",
      "4\n",
      "5\n",
      "6\n",
      "7\n",
      "8\n",
      "9\n",
      "10\n",
      "11\n",
      "12\n",
      "13\n",
      "14\n",
      "15\n",
      "16\n",
      "17\n",
      "18\n",
      "19\n",
      "20\n",
      "21\n",
      "22\n",
      "23\n",
      "24\n",
      "25\n",
      "26\n",
      "27\n",
      "O\n",
      " \n",
      "r\n",
      "a\n",
      "t\n",
      "o\n",
      " \n",
      "r\n",
      "o\n",
      "e\n",
      "u\n",
      " \n",
      "a\n",
      " \n",
      "r\n",
      "o\n",
      "u\n",
      "p\n",
      "a\n",
      " \n",
      "d\n",
      "a\n",
      " \n",
      "A\n",
      "l\n",
      "i\n",
      "c\n",
      "e\n"
     ]
    }
   ],
   "source": [
    "frase = \"O rato roeu a roupa da Alice\"\n",
    "\n",
    "# Implemente aqui sua solução\n",
    "for i in range(len(frase)):\n",
    "    print(i)\n",
    "\n",
    "for letra in frase:\n",
    "    print(letra)"
   ]
  },
  {
   "cell_type": "markdown",
   "id": "8d46663f",
   "metadata": {},
   "source": [
    "### Q3.\n",
    "\n",
    "Escreva uma função em Python chamada ```ordenar_tuplas``` que recebe uma lista de tuplas, cada uma contendo o nome de um aluno e sua respectiva média, e retorna uma nova lista ordenada em ordem decrescente de médias."
   ]
  },
  {
   "cell_type": "code",
   "execution_count": 17,
   "id": "469f2e6e",
   "metadata": {},
   "outputs": [],
   "source": [
    "# Implemente aqui a função ordenar_tuplas\n",
    "\n",
    "def ordenar_tuplas(lista_tuplas):\n",
    "    # Ordena a lista de tuplas com base no segundo elemento (média) em ordem decrescente\n",
    "    lista_ordenada = sorted(lista_tuplas, key=lambda x: x[1], reverse=True)\n",
    "    return lista_ordenada\n"
   ]
  },
  {
   "cell_type": "code",
   "execution_count": 18,
   "id": "1972c62b",
   "metadata": {},
   "outputs": [
    {
     "name": "stdout",
     "output_type": "stream",
     "text": [
      "[('Charlie', 9.0), ('David', 8.8), ('Alice', 8.5), ('Bob', 7.2)]\n"
     ]
    }
   ],
   "source": [
    "# Exemplo de uso:\n",
    "alunos_notas = [('Alice', 8.5), ('Bob', 7.2), ('Charlie', 9.0), ('David', 8.8)]\n",
    "resultado = ordenar_tuplas(alunos_notas)\n",
    "print(resultado)\n",
    "# Saída esperada: [('Charlie', 9.0), ('David', 8.8), ('Alice', 8.5), ('Bob', 7.2)]"
   ]
  },
  {
   "cell_type": "markdown",
   "id": "e0268fae",
   "metadata": {},
   "source": [
    "### Q4.\n",
    "\n",
    "Escreva uma função em Python chamada ```comprimir_tuplas``` que recebe uma lista de tuplas, cada uma contendo uma palavra e um número, e retorna uma nova lista de tuplas onde palavras idênticas são agrupadas e seus números são somados.\n",
    "\n"
   ]
  },
  {
   "cell_type": "code",
   "execution_count": 19,
   "id": "30a221f3",
   "metadata": {},
   "outputs": [],
   "source": [
    "# Implemente aqui a função comprimir_tuplas\n",
    "def comprimir_tuplas(tuplas):\n",
    "    # Criar um dicionário para armazenar as somas das palavras\n",
    "    dicionario = {}\n",
    "    \n",
    "    # Iterar pelas tuplas e somar os valores das palavras idênticas\n",
    "    for palavra, numero in tuplas:\n",
    "        if palavra in dicionario:\n",
    "            dicionario[palavra] += numero\n",
    "        else:\n",
    "            dicionario[palavra] = numero\n",
    "    \n",
    "    # Converter o dicionário de volta para uma lista de tuplas\n",
    "    resultado = list(dicionario.items())\n",
    "    \n",
    "    return resultado"
   ]
  },
  {
   "cell_type": "code",
   "execution_count": 20,
   "id": "80972bac",
   "metadata": {},
   "outputs": [
    {
     "name": "stdout",
     "output_type": "stream",
     "text": [
      "[('maçã', 8), ('banana', 5), ('laranja', 1)]\n"
     ]
    }
   ],
   "source": [
    "# Exemplo de uso\n",
    "tuplas_originais = [('maçã', 3), ('banana', 2), ('maçã', 5), ('laranja', 1), ('banana', 3)]\n",
    "resultado = comprimir_tuplas(tuplas_originais)\n",
    "print(resultado)\n",
    "# Saída esperada: [('maçã', 8), ('banana', 5), ('laranja', 1)]"
   ]
  },
  {
   "cell_type": "markdown",
   "id": "649a5082",
   "metadata": {},
   "source": [
    "### Q5. \n",
    "\n",
    "- Escreva um script que peça o nome e a idade de todos na fila de uma balada. Crie uma lista de tuplas com os pares ```(nome, idade)``` de cada um. \n",
    "- Em seguida crie e imprima duas tuplas apenas com os nomes, uma com os menores de idade que não poderão entrar, e uma com os maiores de idade (```idade >= 18```). \n",
    "\n"
   ]
  },
  {
   "cell_type": "code",
   "execution_count": 21,
   "id": "47cb0573",
   "metadata": {},
   "outputs": [
    {
     "name": "stdin",
     "output_type": "stream",
     "text": [
      "Digite o nome (ou 'fim' para encerrar):  keli cristina\n",
      "Digite a idade de keli cristina:  17\n",
      "Digite o nome (ou 'fim' para encerrar):  Rafaela Keyse\n",
      "Digite a idade de Rafaela Keyse:  18\n",
      "Digite o nome (ou 'fim' para encerrar):  Maria Eduarda\n",
      "Digite a idade de Maria Eduarda:  16\n",
      "Digite o nome (ou 'fim' para encerrar):  fim\n"
     ]
    },
    {
     "name": "stdout",
     "output_type": "stream",
     "text": [
      "Menores de idade (não poderão entrar): ('keli cristina', 'Maria Eduarda')\n",
      "Maiores de idade (podem entrar): ('Rafaela Keyse',)\n"
     ]
    }
   ],
   "source": [
    "## Implemente aqui sua solução\n",
    "def main():\n",
    "    # Inicializa uma lista para armazenar os dados\n",
    "    fila = []\n",
    "\n",
    "    while True:\n",
    "        # Solicita o nome e a idade\n",
    "        nome = input(\"Digite o nome (ou 'fim' para encerrar): \")\n",
    "        if nome.lower() == 'fim':\n",
    "            break\n",
    "        \n",
    "        idade = int(input(f\"Digite a idade de {nome}: \"))\n",
    "\n",
    "        # Adiciona a tupla à lista\n",
    "        fila.append((nome, idade))\n",
    "\n",
    "    # Separa os nomes dos menores e maiores de idade\n",
    "    menores_idade = tuple(nome for nome, idade in fila if idade < 18)\n",
    "    maiores_idade = tuple(nome for nome, idade in fila if idade >= 18)\n",
    "\n",
    "    # Imprime os resultados\n",
    "    print(\"Menores de idade (não poderão entrar):\", menores_idade)\n",
    "    print(\"Maiores de idade (podem entrar):\", maiores_idade)\n",
    "\n",
    "# Executa o script\n",
    "if __name__ == \"__main__\":\n",
    "    main()\n"
   ]
  },
  {
   "cell_type": "code",
   "execution_count": null,
   "id": "07b1e1ee-a3fb-4ac6-b951-6c1363b0577a",
   "metadata": {},
   "outputs": [],
   "source": []
  }
 ],
 "metadata": {
  "kernelspec": {
   "display_name": "Python 3 (ipykernel)",
   "language": "python",
   "name": "python3"
  },
  "language_info": {
   "codemirror_mode": {
    "name": "ipython",
    "version": 3
   },
   "file_extension": ".py",
   "mimetype": "text/x-python",
   "name": "python",
   "nbconvert_exporter": "python",
   "pygments_lexer": "ipython3",
   "version": "3.12.4"
  }
 },
 "nbformat": 4,
 "nbformat_minor": 5
}
