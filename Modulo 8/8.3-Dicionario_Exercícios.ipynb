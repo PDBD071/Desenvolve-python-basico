{
 "cells": [
  {
   "cell_type": "markdown",
   "id": "0d5035b5",
   "metadata": {},
   "source": [
    "# Dicionários\n",
    "\n",
    "## Aula 8.3"
   ]
  },
  {
   "cell_type": "markdown",
   "id": "0bdece85",
   "metadata": {},
   "source": [
    "### Q1. \n",
    "\n",
    "Escreva uma função em Python chamada ```contagem_caracteres``` que recebe uma string como parâmetro e retorna um dicionário onde as chaves são os caracteres presentes na string e os valores são a contagem de cada caractere.\n"
   ]
  },
  {
   "cell_type": "code",
   "execution_count": 1,
   "id": "09a9845d",
   "metadata": {},
   "outputs": [],
   "source": [
    "# Implemente aqui a função contagem_caracteres\n",
    "def contagem_caracteres(s):\n",
    "    # Cria um dicionário vazio para armazenar a contagem dos caracteres\n",
    "    contagem = {}\n",
    "    \n",
    "    # Itera sobre cada caractere na string\n",
    "    for char in s:\n",
    "        # Se o caractere já está no dicionário, incrementa a contagem\n",
    "        if char in contagem:\n",
    "            contagem[char] += 1\n",
    "        # Caso contrário, adiciona o caractere ao dicionário com a contagem 1\n",
    "        else:\n",
    "            contagem[char] = 1\n",
    "    \n",
    "    return contagem\n"
   ]
  },
  {
   "cell_type": "code",
   "execution_count": 2,
   "id": "0a258eba",
   "metadata": {},
   "outputs": [
    {
     "name": "stdout",
     "output_type": "stream",
     "text": [
      "{'p': 2, 'y': 1, 't': 1, 'h': 1, 'o': 2, 'n': 2, ' ': 1, 'r': 2, 'g': 2, 'a': 1, 'm': 2, 'i': 1}\n"
     ]
    }
   ],
   "source": [
    "# Exemplo de uso\n",
    "frase = \"python programming\"\n",
    "resultado = contagem_caracteres(frase)\n",
    "print(resultado)"
   ]
  },
  {
   "cell_type": "markdown",
   "id": "649a5082",
   "metadata": {},
   "source": [
    "### Q2. \n",
    "\n",
    "Baixe o arquivo contendo o roteiro do filme brasileiro \"Estômago\" e salve em seu computador com o nome \"estomago.txt\".\n",
    "\n",
    "https://aplauso.imprensaoficial.com.br/edicoes/12.0.813.502/12.0.813.502.txt\n",
    "\n",
    "- Escreva um script python que abre o arquivo de texto e cria um dicionário contando a quantidade de vezes que cada palavra aparece no texto.\n",
    "- Em seguida ordene o dicionário de forma decrescente pelos valores. Dessa maneira ele irá apresentar as palavras mais frequentes no início.\n",
    "- Apresente na tela o dicionário ordenado\n"
   ]
  },
  {
   "cell_type": "code",
   "execution_count": 32,
   "id": "47cb0573",
   "metadata": {},
   "outputs": [
    {
     "name": "stdout",
     "output_type": "stream",
     "text": [
      "['<html>']\n",
      "not: 2\n",
      "<html>: 1\n",
      "<head><title>404: 1\n",
      "found</title></head>: 1\n",
      "<body>: 1\n",
      "<center><h1>404: 1\n",
      "found</h1></center>: 1\n",
      "<hr><center>nginx</center>: 1\n",
      "</body>: 1\n",
      "</html>: 1\n"
     ]
    }
   ],
   "source": [
    "fp = open('estomago.txt', 'r', encoding='utf-8')\n",
    "linhas = [linha.split() for linha in fp.readlines()]\n",
    "fp.close()\n",
    "\n",
    "print(linhas[0])\n",
    "\n",
    "dict_contador = {}\n",
    "for linha in linhas:\n",
    "    for palavra in linha:\n",
    "        palavra = palavra.lower()\n",
    "        dict_contador[palavra] = dict_contador.get(palavra, 0) + 1\n",
    "\n",
    "sorted_dict_contador = dict(sorted(dict_contador.items(), key=lambda item: item[1], reverse=True))\n",
    "\n",
    "for palavra, contagem in sorted_dict_contador.items():\n",
    "    print(f'{palavra}: {contagem}')\n",
    "\n"
   ]
  },
  {
   "cell_type": "markdown",
   "id": "bb62d219",
   "metadata": {},
   "source": [
    "### Q3. \n",
    "\n",
    "Crie uma função chamada ```mesclar_dicionarios``` que recebe dois dicionários como parâmetros e retorna um novo dicionário contendo a fusão dos dois. Se houver chaves comuns, o maior valor deve prevalecer."
   ]
  },
  {
   "cell_type": "code",
   "execution_count": 19,
   "id": "f4363612",
   "metadata": {},
   "outputs": [
    {
     "name": "stdout",
     "output_type": "stream",
     "text": [
      "{'a': 1, 'b': 4, 'c': 3, 'd': 5}\n"
     ]
    }
   ],
   "source": [
    "# Implemente aqui a função mesclar_dicionarios\n",
    "def mesclar_dicionarios(d1, d2):\n",
    "    # Cria uma cópia do primeiro dicionário\n",
    "    resultado = d1.copy()\n",
    "    \n",
    "    # Atualiza com os valores do segundo dicionário\n",
    "    for chave, valor in d2.items():\n",
    "        if chave in resultado:\n",
    "            # Se a chave já existe, mantém o maior valor\n",
    "            resultado[chave] = max(resultado[chave], valor)\n",
    "        else:\n",
    "            # Se a chave não existe, adiciona\n",
    "            resultado[chave] = valor\n",
    "    \n",
    "    return resultado\n",
    "\n",
    "# Exemplo de uso\n",
    "dicionario1 = {'a': 1, 'b': 2, 'c': 3}\n",
    "dicionario2 = {'b': 4, 'd': 5}\n",
    "resultado = mesclar_dicionarios(dicionario1, dicionario2)\n",
    "print(resultado)\n",
    "# Saída esperada: {'a': 1, 'b': 4, 'c': 3, 'd': 5}\n"
   ]
  },
  {
   "cell_type": "code",
   "execution_count": null,
   "id": "add41556",
   "metadata": {},
   "outputs": [],
   "source": [
    "# Exemplo de uso:\n",
    "dicionario1 = {'a': 1, 'b': 2, 'c': 3}\n",
    "dicionario2 = {'b': 4, 'd': 5}\n",
    "resultado = mesclar_dicionarios(dicionario1, dicionario2)\n",
    "print(resultado)\n",
    "# Saída esperada: {'a': 1, 'b': 4, 'c': 3, 'd': 5}"
   ]
  },
  {
   "cell_type": "markdown",
   "id": "8710b1a7",
   "metadata": {},
   "source": [
    "### Q4.\n",
    "\n",
    "Desenvolva uma função em Python chamada ```filtrar_dicionario``` que recebe um dicionário e uma lista de chaves como parâmetros e retorna um novo dicionário contendo apenas as chaves que estão presentes na lista."
   ]
  },
  {
   "cell_type": "code",
   "execution_count": 17,
   "id": "0b7ee921",
   "metadata": {},
   "outputs": [
    {
     "name": "stdout",
     "output_type": "stream",
     "text": [
      "{'a': 1, 'c': 3, 'e': 5}\n"
     ]
    }
   ],
   "source": [
    "# Implemente aqui a função filtrar_dicionario\n",
    "def filtrar_dicionario(dicionario, chaves):\n",
    "    \"\"\"\n",
    "    Filtra um dicionário para conter apenas as chaves especificadas em uma lista.\n",
    "\n",
    "    Parâmetros:\n",
    "    dicionario (dict): O dicionário a ser filtrado.\n",
    "    chaves (list): A lista de chaves a serem mantidas no dicionário.\n",
    "\n",
    "    Retorna:\n",
    "    dict: Um novo dicionário contendo apenas as chaves especificadas.\n",
    "    \"\"\"\n",
    "    return {chave: dicionario[chave] for chave in chaves if chave in dicionario}\n",
    "\n",
    "# Exemplo de uso\n",
    "dados = {'a': 1, 'b': 2, 'c': 3, 'd': 4, 'e': 5}\n",
    "chaves_filtradas = ['a', 'c', 'e']\n",
    "resultado = filtrar_dicionario(dados, chaves_filtradas)\n",
    "print(resultado)\n",
    "# Saída esperada: {'a': 1, 'c': 3, 'e': 5}"
   ]
  },
  {
   "cell_type": "code",
   "execution_count": null,
   "id": "ebc131f6",
   "metadata": {},
   "outputs": [],
   "source": [
    "# Exemplo de uso:\n",
    "dados = {'a': 1, 'b': 2, 'c': 3, 'd': 4, 'e': 5}\n",
    "chaves_filtradas = ['a', 'c', 'e']\n",
    "resultado = filtrar_dicionario(dados, chaves_filtradas)\n",
    "print(resultado)\n",
    "# Saída esperada: {'a': 1, 'c': 3, 'e': 5}"
   ]
  },
  {
   "cell_type": "markdown",
   "id": "3203c51e",
   "metadata": {},
   "source": [
    "### Q5.\n",
    "\n",
    "Você está responsável por analisar os resultados de uma votação. Cada voto é representado por um dicionário com o nome do candidato e a quantidade de votos que recebeu em uma determinada sessão eleitoral. Escreva uma função chamada ```resultado_votacao``` que recebe uma lista de dicionários de votos e retorna um dicionário onde as chaves são os nomes dos candidatos, e os valores são tuplas ```(total, percentual)``` com o total de votos recebidos por cada candidato e o percentual em relação à soma total de votos em todos os candidatos. "
   ]
  },
  {
   "cell_type": "code",
   "execution_count": 18,
   "id": "2c856eee",
   "metadata": {},
   "outputs": [
    {
     "name": "stdout",
     "output_type": "stream",
     "text": [
      "{'candidato_A': (360, 40.31), 'candidato_B': (258, 28.89), 'candidato_C': (275, 30.8)}\n"
     ]
    }
   ],
   "source": [
    "# Implemente aqui a função resultado_votacao\n",
    "def resultado_votacao(votos):\n",
    "    # Inicializa um dicionário para armazenar o total de votos por candidato\n",
    "    totais_votos = {}\n",
    "    \n",
    "    # Itera sobre a lista de dicionários de votos\n",
    "    for voto in votos:\n",
    "        for candidato, quantidade in voto.items():\n",
    "            if candidato in totais_votos:\n",
    "                totais_votos[candidato] += quantidade\n",
    "            else:\n",
    "                totais_votos[candidato] = quantidade\n",
    "    \n",
    "    # Calcula o total geral de votos\n",
    "    total_geral = sum(totais_votos.values())\n",
    "    \n",
    "    # Cria o dicionário de resultados com totais e percentuais\n",
    "    resultado = {}\n",
    "    for candidato, total in totais_votos.items():\n",
    "        percentual = (total / total_geral) * 100\n",
    "        resultado[candidato] = (total, round(percentual, 2))\n",
    "    \n",
    "    return resultado\n",
    "\n",
    "# Exemplo de uso\n",
    "votos = [\n",
    "    {'candidato_A': 120, 'candidato_B': 85, 'candidato_C': 90},\n",
    "    {'candidato_A': 110, 'candidato_B': 95, 'candidato_C': 80},\n",
    "    {'candidato_A': 130, 'candidato_B': 78, 'candidato_C': 105},\n",
    "]\n",
    "\n",
    "resultado = resultado_votacao(votos)\n",
    "print(resultado)\n"
   ]
  },
  {
   "cell_type": "code",
   "execution_count": null,
   "id": "ff2044de",
   "metadata": {},
   "outputs": [],
   "source": [
    "# Exemplo de uso:\n",
    "votos = [\n",
    "    {'candidato_A': 120, 'candidato_B': 85, 'candidato_C': 90},\n",
    "    {'candidato_A': 110, 'candidato_B': 95, 'candidato_C': 80},\n",
    "    {'candidato_A': 130, 'candidato_B': 78, 'candidato_C': 105},\n",
    "]\n",
    "resultado = resultado_votacao(votos)\n",
    "print(resultado)  # Saída esperada: {'candidato_A': (360, 40.31), 'candidato_B': (258, 28.89), \n",
    "                                ###  'candidato_C': (275, 30.79)}"
   ]
  }
 ],
 "metadata": {
  "kernelspec": {
   "display_name": "Python 3 (ipykernel)",
   "language": "python",
   "name": "python3"
  },
  "language_info": {
   "codemirror_mode": {
    "name": "ipython",
    "version": 3
   },
   "file_extension": ".py",
   "mimetype": "text/x-python",
   "name": "python",
   "nbconvert_exporter": "python",
   "pygments_lexer": "ipython3",
   "version": "3.12.4"
  }
 },
 "nbformat": 4,
 "nbformat_minor": 5
}
