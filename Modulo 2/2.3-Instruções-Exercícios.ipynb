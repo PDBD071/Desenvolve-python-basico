{
 "cells": [
  {
   "cell_type": "markdown",
   "metadata": {
    "id": "1pCTdOHonv5f"
   },
   "source": [
    "# Módulo 2\n",
    "\n",
    "## 2.3 Instruções e Expressões\n",
    "\n",
    "### Q1\n",
    "\n",
    "Faça um programa que armazene o valor de 20 reais de salário por hora de um trabalhador, e o número de 40 horas trabalhadas na semana. Com essas informações, calcule e imprima:\n",
    "- Salário semanal bruto\n",
    "- Valor descontado por semana INSS (10% do bruto)\n",
    "- Valor descontado por semana pelo sindicato (5% do bruto)\n",
    "- Salário semanal líquido (Bruto - Descontos)"
   ]
  },
  {
   "cell_type": "code",
   "execution_count": null,
   "metadata": {
    "id": "hVbX0I97nj6M"
   },
   "outputs": [],
   "source": [
    "# Dados do trabalhador\n",
    "valor_hora = 20.0\n",
    "horas_trabalhadas = 40\n",
    "\n",
    "# Cálculos\n",
    "salario_bruto = valor_hora * horas_trabalhadas\n",
    "desconto_inss = salario_bruto * 0.10\n",
    "desconto_sindicato = salario_bruto * 0.05\n",
    "salario_liquido = salario_bruto - desconto_inss - desconto_sindicato\n",
    "\n",
    "# Impressão dos resultados\n",
    "print(f\"Salário semanal bruto: R$ {salario_bruto:.2f}\")\n",
    "print(f\"Valor descontado por semana INSS (10%): R$ {desconto_inss:.2f}\")\n",
    "print(f\"Valor descontado por semana pelo sindicato (5%): R$ {desconto_sindicato:.2f}\")\n",
    "print(f\"Salário semanal líquido: R$ {salario_liquido:.2f}\")\n"
   ]
  },
  {
   "cell_type": "markdown",
   "metadata": {
    "id": "pIxKX9J2oGZ1"
   },
   "source": [
    "### Q2\n",
    "\n",
    "Altere o programa anterior para a partir dos valores de horas trabalhadas por semana e salário por hora, calcular **em somente duas instruções**:\n",
    "- Salário semanal bruto\n",
    "- Salário semanal líquido com todos os descontos. Para a segunda instrução, realize todos os cálculos aritméticos em uma expressão composta.\n"
   ]
  },
  {
   "cell_type": "code",
   "execution_count": null,
   "metadata": {
    "id": "pAHw9Xf9oGoi"
   },
   "outputs": [],
   "source": [
    "# Dados do trabalhador\n",
    "valor_hora = 20.0\n",
    "horas_trabalhadas = 40\n",
    "\n",
    "# Cálculos\n",
    "salario_bruto = valor_hora * horas_trabalhadas\n",
    "salario_liquido = salario_bruto - (salario_bruto * 0.10) - (salario_bruto * 0.05)\n",
    "\n",
    "# Impressão dos resultados\n",
    "print(f\"Salário semanal bruto: R$ {salario_bruto:.2f}\")\n",
    "print(f\"Salário semanal líquido: R$ {salario_liquido:.2f}\")\n"
   ]
  },
  {
   "cell_type": "markdown",
   "metadata": {
    "id": "m8tlHRuWpBOB"
   },
   "source": [
    "### Q3\n",
    "\n",
    "Você está desenvolvendo um software de conversão de moeda e precisa calcular o valor equivalente em yuan chinês a partir de uma quantia em real. A taxa de câmbio é de 0.69 BRL (real) para 1 CNY (yuan). Escreva um programa que define em uma variável uma quantia em reais (BRL) e calcula o valor equivalente em yuan (CNY). Imprima o resultado."
   ]
  },
  {
   "cell_type": "code",
   "execution_count": null,
   "metadata": {
    "id": "2bPw7uF6oeL9"
   },
   "outputs": [],
   "source": [
    "# Definindo a quantia em reais (BRL)\n",
    "quantia_em_reais = 100.0  # Você pode alterar este valor para qualquer quantia desejada\n",
    "\n",
    "# Taxa de câmbio\n",
    "taxa_cambio = 0.69\n",
    "\n",
    "# Cálculo da conversão\n",
    "valor_em_yuan = quantia_em_reais / taxa_cambio\n",
    "\n",
    "# Impressão do resultado\n",
    "print(f\"Valor em reais (BRL): R$ {quantia_em_reais:.2f}\")\n",
    "print(f\"Valor equivalente em yuan chinês (CNY): ¥ {valor_em_yuan:.2f}\")\n"
   ]
  },
  {
   "cell_type": "markdown",
   "metadata": {
    "id": "-Na3ltDCp74A"
   },
   "source": [
    "### Q4\n",
    "\n",
    "Você é um treinador de corrida e deseja calcular a velocidade média que um atleta precisa manter para completar a Maratona Internacional de São Silvestre, que tem uma distância total de 42.195 km. A fórmula para calcular a velocidade média ($v\\_media$) é dada por $v\\_media = \\frac{distancia}{tempo}$ . Escreva um programa em Python para calcular a velocidade média necessária para completar a maratona em 3 horas.\n",
    "\n",
    "**Calcule e imprima o resultado em metros/segundo**, ou seja, converta a distância de quilômetros para metros ($metro = \\frac{km}{1000}$) e a velocidade de horas para segundos $(segundo = \\frac{hora}{3600})$."
   ]
  },
  {
   "cell_type": "code",
   "execution_count": null,
   "metadata": {
    "id": "Bn6l8kcSrE4L"
   },
   "outputs": [],
   "source": [
    "# Distância da maratona em quilômetros\n",
    "distancia_km = 42.195\n",
    "\n",
    "# Tempo para completar a maratona em horas\n",
    "tempo_horas = 3\n",
    "\n",
    "# Conversão de distância para metros\n",
    "distancia_metros = distancia_km * 1000\n",
    "\n",
    "# Conversão de tempo para segundos\n",
    "tempo_segundos = tempo_horas * 3600\n",
    "\n",
    "# Cálculo da velocidade média em metros por segundo\n",
    "velocidade_media = distancia_metros / tempo_segundos\n",
    "\n",
    "# Impressão do resultado\n",
    "print(f\"Para completar a maratona em 3 horas, a velocidade média necessária é: {velocidade_media:.2f} metros/segundo\")\n"
   ]
  }
 ],
 "metadata": {
  "colab": {
   "provenance": []
  },
  "kernelspec": {
   "display_name": "Python 3 (ipykernel)",
   "language": "python",
   "name": "python3"
  },
  "language_info": {
   "codemirror_mode": {
    "name": "ipython",
    "version": 3
   },
   "file_extension": ".py",
   "mimetype": "text/x-python",
   "name": "python",
   "nbconvert_exporter": "python",
   "pygments_lexer": "ipython3",
   "version": "3.12.4"
  }
 },
 "nbformat": 4,
 "nbformat_minor": 4
}
