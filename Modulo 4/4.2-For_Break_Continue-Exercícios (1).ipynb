{
 "cells": [
  {
   "cell_type": "markdown",
   "id": "29e89030",
   "metadata": {},
   "source": [
    "# Módulo 4 - Repetições\n",
    "\n",
    "## Aulas 4.2 - Comando ```for``` e 4.3 Break e Continue"
   ]
  },
  {
   "cell_type": "markdown",
   "id": "a45b42df",
   "metadata": {},
   "source": [
    "### Q1.\n",
    "\n",
    "Crie um programa em Python que utilize o comando for para imprimir os números de 10 a 1, em ordem decrescente."
   ]
  },
  {
   "cell_type": "code",
   "execution_count": 1,
   "id": "55a75b3d",
   "metadata": {},
   "outputs": [
    {
     "name": "stdout",
     "output_type": "stream",
     "text": [
      "10\n",
      "9\n",
      "8\n",
      "7\n",
      "6\n",
      "5\n",
      "4\n",
      "3\n",
      "2\n",
      "1\n"
     ]
    }
   ],
   "source": [
    "## Escreva e execute seu código aqui\n",
    "for i in range(10, 0, -1):\n",
    "    print(i)"
   ]
  },
  {
   "cell_type": "markdown",
   "id": "94b47c36",
   "metadata": {},
   "source": [
    "### Q2.\n",
    "\n",
    "Dado um número inteiro positivo informado pelo usuário, crie um programa em Python que utilize o comando for para calcular e exibir a soma dos números de 1 até o número informado. Ou seja, $1 + 2 + 3 + ... + n$\n",
    "\n",
    "Exemplo de interação:\n",
    "```\n",
    "Digite um número: 5\n",
    "A soma dos números de 1 a 5 é 15\n",
    "```\n"
   ]
  },
  {
   "cell_type": "code",
   "execution_count": 2,
   "id": "45b71596",
   "metadata": {},
   "outputs": [
    {
     "name": "stdin",
     "output_type": "stream",
     "text": [
      "Digite um número:  5\n"
     ]
    },
    {
     "name": "stdout",
     "output_type": "stream",
     "text": [
      "A soma dos números de 1 a 5 é 15\n"
     ]
    }
   ],
   "source": [
    "## Escreva e execute seu código aqui\n",
    "# Entrada\n",
    "numero = int(input(\"Digite um número: \"))\n",
    "\n",
    "\n",
    "soma = 0\n",
    "\n",
    "# Processando\n",
    "for i in range(1, numero + 1):\n",
    "    soma += i\n",
    "\n",
    "# Saída\n",
    "print(f\"A soma dos números de 1 a {numero} é {soma}\")"
   ]
  },
  {
   "cell_type": "markdown",
   "id": "0411d170",
   "metadata": {},
   "source": [
    "### Q3.\n",
    "\n",
    "Escreva um programa que lê 10 valores inteiros positivos do usuário e ao final imprime a média dos valores digitados com duas casas decimais.\n",
    "\n",
    "```\n",
    "Digite 10 números positivos:\n",
    "3\n",
    "2\n",
    "12\n",
    "14\n",
    "20\n",
    "42\n",
    "19\n",
    "0\n",
    "8\n",
    "1\n",
    "A média dos valores digitados é 12.10\n",
    "```"
   ]
  },
  {
   "cell_type": "code",
   "execution_count": 3,
   "id": "3f72f358",
   "metadata": {},
   "outputs": [
    {
     "name": "stdout",
     "output_type": "stream",
     "text": [
      "Digite 10 números inteiros:\n"
     ]
    },
    {
     "name": "stdin",
     "output_type": "stream",
     "text": [
      " 3\n",
      " 2\n",
      " 12\n",
      " 14\n",
      " 20\n",
      " 42\n",
      " 19\n",
      " 0\n",
      " 8\n",
      " 1\n"
     ]
    },
    {
     "name": "stdout",
     "output_type": "stream",
     "text": [
      "A média dos valores digitados é 12.10\n"
     ]
    }
   ],
   "source": [
    "## Escreva e execute seu código aqui\n",
    "# Entrada de dados\n",
    "soma = 0\n",
    "\n",
    "# Processamento\n",
    "print(\"Digite 10 números inteiros:\")\n",
    "for i in range(10):\n",
    "    while True:\n",
    "        try:\n",
    "            valor = int(input())\n",
    "            soma += valor\n",
    "            break\n",
    "        except ValueError:\n",
    "            print(\"Entrada inválida. Por favor, digite um número inteiro:\")\n",
    "\n",
    "media = soma / 10\n",
    "\n",
    "# Saída\n",
    "print(f\"A média dos valores digitados é {media:.2f}\")"
   ]
  },
  {
   "cell_type": "markdown",
   "id": "d62e27ff",
   "metadata": {},
   "source": [
    "### Q4.\n",
    "\n",
    "Você vai criar um sistema que registra os resultados dos jogos do Atlético MG ao longo de um campeonato. Seu sistema vai receber os resultados de todos os jogos do Galo, e deve calcular a pontuação do time sabendo que vitórias valem 3 pontos, empates 1 ponto e derrotas 0 pontos.\n",
    "\n",
    "Entrada: <br>\n",
    "A primeira linha de entrada é um inteiro N com a quantidade jogos do galo. Para cada jogo você deve ler 2 inteiros, o primeiro com a quantidade de gols do galo e o segundo com a quantidade de gols do time oponente. \n",
    "\n",
    "Saída: <br>\n",
    "Apresente a soma de vitórias, empates e derrotas do galo, junto com o cálculo da pontuação total.\n",
    "\n",
    "Ex:\n",
    "```\n",
    "Entrada:\n",
    "4\n",
    "2\n",
    "0\n",
    "1\n",
    "1\n",
    "0\n",
    "3\n",
    "1\n",
    "0\n",
    "\n",
    "Saída:\n",
    "Vitórias: 2\n",
    "Empates: 1\n",
    "Derrotas: 1\n",
    "Pontuação: 7\n",
    "\n",
    "```\n",
    "\n",
    "\n"
   ]
  },
  {
   "cell_type": "code",
   "execution_count": 4,
   "id": "d3fdfc2a",
   "metadata": {},
   "outputs": [
    {
     "name": "stdin",
     "output_type": "stream",
     "text": [
      "Digite a quantidade de jogos:  4\n",
      "Digite os gols do Atlético MG:  2\n",
      "Digite os gols do time oponente:  0\n",
      "Digite os gols do Atlético MG:  1\n",
      "Digite os gols do time oponente:  1\n",
      "Digite os gols do Atlético MG:  0\n",
      "Digite os gols do time oponente:  3\n",
      "Digite os gols do Atlético MG:  1\n",
      "Digite os gols do time oponente:  0\n"
     ]
    },
    {
     "name": "stdout",
     "output_type": "stream",
     "text": [
      "Vitórias: 2\n",
      "Empates: 1\n",
      "Derrotas: 1\n",
      "Pontuação: 7\n"
     ]
    }
   ],
   "source": [
    "## Escreva e execute seu código aqui\n",
    "# Entrada de dados\n",
    "def calcular_estatisticas():\n",
    "    # Ler a quantidade de jogos\n",
    "    N = int(input(\"Digite a quantidade de jogos: \"))\n",
    "    \n",
    "    # Inicializar contadores\n",
    "    vitorias = 0\n",
    "    empates = 0\n",
    "    derrotas = 0\n",
    "    pontuacao = 0\n",
    "    \n",
    "    # Processamento\n",
    "    i = 0\n",
    "    \n",
    "    while i < N:\n",
    "        # Ler os gols do Atlético MG e do time oponente\n",
    "        gols_atletico = int(input(\"Digite os gols do Atlético MG: \"))\n",
    "        gols_oponente = int(input(\"Digite os gols do time oponente: \"))\n",
    "        \n",
    "        # Determinar resultado do jogo\n",
    "        if gols_atletico > gols_oponente:\n",
    "            vitorias += 1\n",
    "            pontuacao += 3\n",
    "        elif gols_atletico == gols_oponente:\n",
    "            empates += 1\n",
    "            pontuacao += 1\n",
    "        else:\n",
    "            derrotas += 1\n",
    "        \n",
    "        # Avançar para o próximo jogo\n",
    "        i += 1\n",
    "    \n",
    "    # Saída\n",
    "    print(f\"Vitórias: {vitorias}\")\n",
    "    print(f\"Empates: {empates}\")\n",
    "    print(f\"Derrotas: {derrotas}\")\n",
    "    print(f\"Pontuação: {pontuacao}\")\n",
    "\n",
    "# Executar a função principal\n",
    "calcular_estatisticas()\n"
   ]
  },
  {
   "cell_type": "markdown",
   "id": "fc98604d",
   "metadata": {},
   "source": [
    "### Q5.\n",
    "\n",
    "Faça um programa que lê dois inteiros N e M, e imprime na tela um campo de batalha naval. O tabuleiro deve possuir N linhas e M colunas. A primeira linha é composta por um espaço em branco e o cabeçalho das colunas, ou seja, valores de 1 a M. As N linhas seguintes iniciam com o cabeçalho da linha, ou seja, seu número, seguido de M caracteres \"/\" (barra) indicando uma possível posição jogável. \n",
    "\n",
    "```\n",
    "Entrada:\n",
    "5\n",
    "4\n",
    "\n",
    "Saída:\n",
    "  1 2 3 4 \n",
    "1 / / / / \n",
    "2 / / / / \n",
    "3 / / / / \n",
    "4 / / / / \n",
    "5 / / / / \n",
    "```\n",
    "\n",
    "Para esse exercício, precisamos lembrar que o comando print implicitamente adiciona uma quebra de linha ao final da impressão. Podemos interferir no final da impressão adicionando mais uma entrada ao print. No exemplo, finalizamos cada linha com um espaço em branco:\n",
    "```python\n",
    "print(\"Texto qualquer\", end = \" \")\n",
    "```"
   ]
  },
  {
   "cell_type": "code",
   "execution_count": 5,
   "id": "a60ef197",
   "metadata": {},
   "outputs": [
    {
     "name": "stdin",
     "output_type": "stream",
     "text": [
      " 5\n",
      " 4\n"
     ]
    },
    {
     "name": "stdout",
     "output_type": "stream",
     "text": [
      "  1 2 3 4 \n",
      "1 / / / / \n",
      "2 / / / / \n",
      "3 / / / / \n",
      "4 / / / / \n",
      "5 / / / / \n"
     ]
    }
   ],
   "source": [
    "## Escreva e execute seu código aqui\n",
    "# Entrada de dados\n",
    "N = int(input())\n",
    "M = int(input())\n",
    "# Processamento\n",
    "# Impressão do cabeçalho das colunas\n",
    "print(\" \", end=\" \")  # Imprime um espaço em branco inicial\n",
    "col = 1\n",
    "while col <= M:\n",
    "    print(col, end=\" \")\n",
    "    col += 1\n",
    "print()  # Quebra de linha após o cabeçalho das colunas\n",
    "\n",
    "# Saída\n",
    "row = 1\n",
    "while row <= N:\n",
    "    print(row, end=\" \")  # Cabeçalho da linha\n",
    "    col = 1\n",
    "    while col <= M:\n",
    "        print(\"/\", end=\" \")\n",
    "        col += 1\n",
    "    print()  # Quebra de linha após a linha do tabuleiro\n",
    "    row += 1\n"
   ]
  },
  {
   "cell_type": "markdown",
   "id": "4654dc0b",
   "metadata": {},
   "source": [
    "---\n",
    "## Break e Continue"
   ]
  },
  {
   "cell_type": "markdown",
   "id": "24fe9d85",
   "metadata": {},
   "source": [
    "### Q6.\n",
    "\n",
    "Escreva um programa que lê uma quantidade indefinida de valores e informa o maior e o menor valor digitados. A leitura é encerrada quando o usuário digitar o valor 0 (zero).\n",
    "\n",
    "```\n",
    "Entrada:\n",
    "12\n",
    "-1\n",
    "29\n",
    "11\n",
    "-5\n",
    "0\n",
    "\n",
    "Saída:\n",
    "Maior: 29\n",
    "Menor: -5\n",
    "```"
   ]
  },
  {
   "cell_type": "code",
   "execution_count": 6,
   "id": "ee1c466a",
   "metadata": {},
   "outputs": [
    {
     "name": "stdin",
     "output_type": "stream",
     "text": [
      "Digite um valor (0 para encerrar):  12\n",
      "Digite um valor (0 para encerrar):  -1\n",
      "Digite um valor (0 para encerrar):  29\n",
      "Digite um valor (0 para encerrar):  11\n",
      "Digite um valor (0 para encerrar):  -5\n",
      "Digite um valor (0 para encerrar):  0\n"
     ]
    },
    {
     "name": "stdout",
     "output_type": "stream",
     "text": [
      "Maior: 29\n",
      "Menor: -5\n"
     ]
    }
   ],
   "source": [
    "## Escreva e execute seu código aqui\n",
    "# Entrada de dados\n",
    "maior = None\n",
    "menor = None\n",
    "\n",
    "while True:\n",
    "    # Processamento\n",
    "    valor = int(input(\"Digite um valor (0 para encerrar): \"))\n",
    "    \n",
    "    # Verifica se o valor é 0, encerrando o loop\n",
    "    if valor == 0:\n",
    "        break\n",
    "    \n",
    "    # Atualiza o maior e o menor valor\n",
    "    if maior is None or valor > maior:\n",
    "        maior = valor\n",
    "    if menor is None or valor < menor:\n",
    "        menor = valor\n",
    "\n",
    "# Saída\n",
    "if maior is not None and menor is not None:\n",
    "    print(f\"Maior: {maior}\")\n",
    "    print(f\"Menor: {menor}\")\n",
    "else:\n",
    "    print(\"Nenhum valor válido foi digitado.\")"
   ]
  },
  {
   "cell_type": "markdown",
   "id": "30d486f7",
   "metadata": {},
   "source": [
    "### Q7.\n",
    "\n",
    "Escreva um programa que lê uma quantidade indefinida de valores e informa o **produto** dos valores positivos digitados. A leitura é encerrada quando o usuário digitar o valor 0 (zero).\n",
    "\n",
    "```\n",
    "Entrada:\n",
    "2\n",
    "-1\n",
    "1\n",
    "3\n",
    "-5\n",
    "0\n",
    "\n",
    "Saída:\n",
    "Produto: 6\n",
    "```"
   ]
  },
  {
   "cell_type": "code",
   "execution_count": 7,
   "id": "2f1ac324",
   "metadata": {},
   "outputs": [
    {
     "name": "stdin",
     "output_type": "stream",
     "text": [
      "Digite um valor (0 para encerrar):  2\n",
      "Digite um valor (0 para encerrar):  -1\n",
      "Digite um valor (0 para encerrar):  1\n",
      "Digite um valor (0 para encerrar):  3\n",
      "Digite um valor (0 para encerrar):  -5\n",
      "Digite um valor (0 para encerrar):  0\n"
     ]
    },
    {
     "name": "stdout",
     "output_type": "stream",
     "text": [
      "Produto: 6\n"
     ]
    }
   ],
   "source": [
    "## Escreva e execute seu código aqui\n",
    "# Entrada de dados\n",
    "produto = 1\n",
    "valores_positivos = False  # Flag para verificar se há valores positivos\n",
    "\n",
    "while True:\n",
    "    # Processamento\n",
    "    valor = int(input(\"Digite um valor (0 para encerrar): \"))\n",
    "    \n",
    "    # Verifica se o valor é 0, encerrando o loop\n",
    "    if valor == 0:\n",
    "        break\n",
    "    \n",
    "    # Atualiza o produto dos valores positivos\n",
    "    if valor > 0:\n",
    "        produto *= valor\n",
    "        valores_positivos = True\n",
    "\n",
    "# Saída\n",
    "if valores_positivos:\n",
    "    print(f\"Produto: {produto}\")\n",
    "else:\n",
    "    print(\"Nenhum valor positivo foi digitado.\")"
   ]
  },
  {
   "cell_type": "markdown",
   "id": "e932f3cf",
   "metadata": {},
   "source": [
    "### Q8.\n",
    "\n",
    "Vamos fazer uma calculadora que aceita expressões aritméticas de qualquer tamanho até que o usuário digite a palavra \"Fim\". Sua calculadora executa apenas as operações \"+\", \"-\".\n",
    "\n",
    "```\n",
    "Entrada:\n",
    "5\n",
    "+\n",
    "8\n",
    "-\n",
    "3\n",
    "+\n",
    "2\n",
    "Fim\n",
    "\n",
    "Saída:\n",
    "12\n",
    "```"
   ]
  },
  {
   "cell_type": "code",
   "execution_count": 2,
   "id": "73aa1608-6c82-4760-acf5-ec1bbf579c2f",
   "metadata": {},
   "outputs": [
    {
     "name": "stdout",
     "output_type": "stream",
     "text": [
      "Digite uma expressão aritmética (+, -) ou 'Fim' para encerrar.\n"
     ]
    },
    {
     "name": "stdin",
     "output_type": "stream",
     "text": [
      "Digite a expressão:  5+8-3+2\n"
     ]
    },
    {
     "name": "stdout",
     "output_type": "stream",
     "text": [
      "Resultado: 12\n"
     ]
    },
    {
     "name": "stdin",
     "output_type": "stream",
     "text": [
      "Digite a expressão:  fim\n"
     ]
    },
    {
     "name": "stdout",
     "output_type": "stream",
     "text": [
      "Encerrando a calculadora.\n"
     ]
    }
   ],
   "source": [
    "def calcular(expressao):\n",
    "    try:\n",
    "        # Substitui espaços e avalia a expressão\n",
    "        resultado = eval(expressao)\n",
    "        return resultado\n",
    "    except Exception as e:\n",
    "        return f\"Erro: {e}\"\n",
    "\n",
    "def main():\n",
    "    print(\"Digite uma expressão aritmética (+, -) ou 'Fim' para encerrar.\")\n",
    "    \n",
    "    while True:\n",
    "        entrada = input(\"Digite a expressão: \")\n",
    "        \n",
    "        if entrada.strip().lower() == \"fim\":\n",
    "            print(\"Encerrando a calculadora.\")\n",
    "            break\n",
    "        \n",
    "        resultado = calcular(entrada)\n",
    "        print(f\"Resultado: {resultado}\")\n",
    "\n",
    "if __name__ == \"__main__\":\n",
    "    main()\n"
   ]
  },
  {
   "cell_type": "code",
   "execution_count": null,
   "id": "7d50c1db-47fb-4a9d-b63f-3e3e95725f22",
   "metadata": {},
   "outputs": [],
   "source": []
  }
 ],
 "metadata": {
  "kernelspec": {
   "display_name": "Python 3 (ipykernel)",
   "language": "python",
   "name": "python3"
  },
  "language_info": {
   "codemirror_mode": {
    "name": "ipython",
    "version": 3
   },
   "file_extension": ".py",
   "mimetype": "text/x-python",
   "name": "python",
   "nbconvert_exporter": "python",
   "pygments_lexer": "ipython3",
   "version": "3.12.4"
  }
 },
 "nbformat": 4,
 "nbformat_minor": 5
}
